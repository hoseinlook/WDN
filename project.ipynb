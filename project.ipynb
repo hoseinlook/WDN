{
 "cells": [
  {
   "cell_type": "code",
   "execution_count": 172,
   "id": "cb9e2985-c577-4507-a187-a22b6b5f15cf",
   "metadata": {},
   "outputs": [],
   "source": [
    "from wntr.network import Valve, LinkStatus\n",
    "from wntr.network.controls import Valve , ValueCondition ,ControlAction\n",
    "from wntr.network import controls"
   ]
  },
  {
   "cell_type": "code",
   "execution_count": 991,
   "id": "7201794e-c1ad-4fd4-97f3-37ba3f96274f",
   "metadata": {},
   "outputs": [
    {
     "data": {
      "text/html": [
       "<div>\n",
       "<style scoped>\n",
       "    .dataframe tbody tr th:only-of-type {\n",
       "        vertical-align: middle;\n",
       "    }\n",
       "\n",
       "    .dataframe tbody tr th {\n",
       "        vertical-align: top;\n",
       "    }\n",
       "\n",
       "    .dataframe thead th {\n",
       "        text-align: right;\n",
       "    }\n",
       "</style>\n",
       "<table border=\"1\" class=\"dataframe\">\n",
       "  <thead>\n",
       "    <tr style=\"text-align: right;\">\n",
       "      <th></th>\n",
       "      <th>10</th>\n",
       "      <th>11</th>\n",
       "      <th>12</th>\n",
       "      <th>13</th>\n",
       "      <th>21</th>\n",
       "      <th>22</th>\n",
       "      <th>23</th>\n",
       "      <th>31</th>\n",
       "      <th>32</th>\n",
       "      <th>2</th>\n",
       "      <th>9</th>\n",
       "    </tr>\n",
       "  </thead>\n",
       "  <tbody>\n",
       "    <tr>\n",
       "      <th>183600</th>\n",
       "      <td>90.991181</td>\n",
       "      <td>87.123051</td>\n",
       "      <td>82.208919</td>\n",
       "      <td>83.415292</td>\n",
       "      <td>80.3319</td>\n",
       "      <td>83.732919</td>\n",
       "      <td>84.980004</td>\n",
       "      <td>79.189676</td>\n",
       "      <td>76.077749</td>\n",
       "      <td>36.478696</td>\n",
       "      <td>0.0</td>\n",
       "    </tr>\n",
       "  </tbody>\n",
       "</table>\n",
       "</div>"
      ],
      "text/plain": [
       "               10         11         12         13       21         22  \\\n",
       "183600  90.991181  87.123051  82.208919  83.415292  80.3319  83.732919   \n",
       "\n",
       "               23         31         32          2    9  \n",
       "183600  84.980004  79.189676  76.077749  36.478696  0.0  "
      ]
     },
     "execution_count": 991,
     "metadata": {},
     "output_type": "execute_result"
    }
   ],
   "source": [
    "results.node['pressure'].loc[:,:]"
   ]
  },
  {
   "cell_type": "code",
   "execution_count": null,
   "id": "f5a75d76-9289-4cd4-a314-b392d050312e",
   "metadata": {},
   "outputs": [],
   "source": []
  },
  {
   "cell_type": "code",
   "execution_count": null,
   "id": "5c59f6ae-e809-4672-9f66-d1f183705523",
   "metadata": {},
   "outputs": [],
   "source": []
  },
  {
   "cell_type": "code",
   "execution_count": 1016,
   "id": "788d33ed-3962-4c2c-9a38-6f0b0f801d5b",
   "metadata": {},
   "outputs": [
    {
     "data": {
      "text/plain": [
       "<Valve 'prv1' from '12' to '22', valve_type='PRValve', diameter=0.30479999999999996, minor_loss=0.0, setting=21.103161781675514, status=Closed>"
      ]
     },
     "execution_count": 1016,
     "metadata": {},
     "output_type": "execute_result"
    },
    {
     "data": {
      "image/png": "[encoded data removed]",
      "text/plain": [
       "<Figure size 640x480 with 1 Axes>"
      ]
     },
     "metadata": {},
     "output_type": "display_data"
    }
   ],
   "source": [
    "\n",
    "sim = wntr.sim.WNTRSimulator(wn)\n",
    "\n",
    "results = sim.run_sim()\n",
    "\n",
    "pressure_at_node123 = results.node['pressure'].loc[:,:]\n",
    "# xx = results.link[\"flowrate\"].loc[:,\"10\"].plot()\n",
    "ax = pressure_at_node123.plot()\n",
    "text = ax.set_xlabel(\"Time (s)\")\n",
    "text = ax.set_ylabel(\"Pressure (m)\")\n",
    "list(wn.valves())[1][1]"
   ]
  },
  {
   "cell_type": "code",
   "execution_count": 1015,
   "id": "41d297e4-c121-4025-81ec-efbe33920ff2",
   "metadata": {},
   "outputs": [],
   "source": [
    "pipe = wn.get_link('prv1')\n",
    "pipe\n",
    "act1 = ControlAction(pipe, 'status', LinkStatus.Active)\n",
    "cond2 = controls.SimTimeCondition(wn, '=', int(wn.sim_time))\n",
    "c1 = controls.Control(cond2,act1,name=\"xx\")\n",
    "wn.remove_control(\"xx\")\n",
    "wn.add_control(\"xx\" ,c1)\n",
    "sim = wntr.sim.WNTRSimulator(wn)\n",
    "results = sim.run_sim()"
   ]
  },
  {
   "cell_type": "code",
   "execution_count": 1008,
   "id": "6fb006b0-f5e6-4eb9-960e-e733dd75e44a",
   "metadata": {},
   "outputs": [
    {
     "ename": "KeyError",
     "evalue": "'xx'",
     "output_type": "error",
     "traceback": [
      "\u001b[0;31m---------------------------------------------------------------------------\u001b[0m",
      "\u001b[0;31mKeyError\u001b[0m                                  Traceback (most recent call last)",
      "Cell \u001b[0;32mIn[1008], line 1\u001b[0m\n\u001b[0;32m----> 1\u001b[0m \u001b[43mwn\u001b[49m\u001b[38;5;241;43m.\u001b[39;49m\u001b[43mremove_control\u001b[49m\u001b[43m(\u001b[49m\u001b[38;5;124;43m\"\u001b[39;49m\u001b[38;5;124;43mxx\u001b[39;49m\u001b[38;5;124;43m\"\u001b[39;49m\u001b[43m)\u001b[49m\n",
      "File \u001b[0;32m~/Projects/self/WDN/venv/lib/python3.9/site-packages/wntr/network/model.py:731\u001b[0m, in \u001b[0;36mWaterNetworkModel.remove_control\u001b[0;34m(self, name)\u001b[0m\n\u001b[1;32m    729\u001b[0m \u001b[38;5;28;01mdef\u001b[39;00m \u001b[38;5;21mremove_control\u001b[39m(\u001b[38;5;28mself\u001b[39m, name):\n\u001b[1;32m    730\u001b[0m \u001b[38;5;250m    \u001b[39m\u001b[38;5;124;03m\"\"\"Removes a control from the water network model\"\"\"\u001b[39;00m\n\u001b[0;32m--> 731\u001b[0m     \u001b[38;5;28;01mdel\u001b[39;00m \u001b[38;5;28mself\u001b[39m\u001b[38;5;241m.\u001b[39m_controls[name]\n",
      "\u001b[0;31mKeyError\u001b[0m: 'xx'"
     ]
    }
   ],
   "source": [
    "wn.remove_control(\"xx\")"
   ]
  },
  {
   "cell_type": "code",
   "execution_count": 1018,
   "id": "c176f216-940c-43ca-966b-ea6ee2c6ce44",
   "metadata": {},
   "outputs": [],
   "source": [
    "wn.reset_initial_values()"
   ]
  },
  {
   "cell_type": "code",
   "execution_count": 1070,
   "id": "1579a2ae-fe02-40ef-a893-6a4438060741",
   "metadata": {},
   "outputs": [
    {
     "data": {
      "text/plain": [
       "['10', '11', '12', '13', '21', '22', '23', '31', '32', '9', '2']"
      ]
     },
     "execution_count": 1070,
     "metadata": {},
     "output_type": "execute_result"
    }
   ],
   "source": [
    "list(wn.nodes)"
   ]
  },
  {
   "cell_type": "code",
   "execution_count": null,
   "id": "752440b1-284b-49db-b888-17025e95c56c",
   "metadata": {},
   "outputs": [],
   "source": []
  },
  {
   "cell_type": "code",
   "execution_count": 1069,
   "id": "83995f94-fbbe-4f9d-9ec1-f0b3dc2f0caa",
   "metadata": {},
   "outputs": [
    {
     "data": {
      "text/plain": [
       "float"
      ]
     },
     "execution_count": 1069,
     "metadata": {},
     "output_type": "execute_result"
    }
   ],
   "source": [
    "type(wn.sim_time)"
   ]
  },
  {
   "cell_type": "code",
   "execution_count": 1022,
   "id": "5b73a4ce-bb4f-48dc-9c7f-eb8653ebb5d3",
   "metadata": {},
   "outputs": [],
   "source": [
    "import random"
   ]
  },
  {
   "cell_type": "code",
   "execution_count": 1068,
   "id": "ab7edbf1-d677-4ef6-a296-36882e33bab3",
   "metadata": {},
   "outputs": [
    {
     "data": {
      "text/plain": [
       "'1100'"
      ]
     },
     "execution_count": 1068,
     "metadata": {},
     "output_type": "execute_result"
    }
   ],
   "source": [
    "bin(random.randint(1,128))\n",
    "bin(12)[2:]"
   ]
  },
  {
   "cell_type": "code",
   "execution_count": 1056,
   "id": "e311f3fc-5121-4fe1-9681-369abcfb58be",
   "metadata": {},
   "outputs": [
    {
     "data": {
      "text/plain": [
       "array(['1', '0', '1', '1', '1'], dtype='<U1')"
      ]
     },
     "execution_count": 1056,
     "metadata": {},
     "output_type": "execute_result"
    }
   ],
   "source": [
    "np.array(list(bin(random.randint(1,128))[2:].zfill(3)))"
   ]
  },
  {
   "cell_type": "code",
   "execution_count": 170,
   "id": "910338cb-4d0b-40f2-af5f-37885daa8bd1",
   "metadata": {},
   "outputs": [
    {
     "data": {
      "text/plain": [
       "[('control 1',\n",
       "  <Control: '', <ValueCondition: 2, level, <, 33.528>, [<ControlAction: 9, status, OPEN>], [], priority=3>),\n",
       " ('control 2',\n",
       "  <Control: '', <ValueCondition: 2, level, >, 42.672000000000004>, [<ControlAction: 9, status, CLOSED>], [], priority=3>)]"
      ]
     },
     "execution_count": 170,
     "metadata": {},
     "output_type": "execute_result"
    }
   ],
   "source": [
    "list(wn.controls())"
   ]
  },
  {
   "cell_type": "code",
   "execution_count": null,
   "id": "62753494-f943-4ef3-b566-434eb045d4db",
   "metadata": {},
   "outputs": [],
   "source": []
  },
  {
   "cell_type": "code",
   "execution_count": 166,
   "id": "1e5fe828-3cba-489a-9f09-8209b208ebfb",
   "metadata": {},
   "outputs": [
    {
     "ename": "AttributeError",
     "evalue": "can't set attribute",
     "output_type": "error",
     "traceback": [
      "\u001b[0;31m---------------------------------------------------------------------------\u001b[0m",
      "\u001b[0;31mAttributeError\u001b[0m                            Traceback (most recent call last)",
      "Cell \u001b[0;32mIn[166], line 1\u001b[0m\n\u001b[0;32m----> 1\u001b[0m \u001b[43mwn\u001b[49m\u001b[38;5;241;43m.\u001b[39;49m\u001b[43mget_link\u001b[49m\u001b[43m(\u001b[49m\u001b[38;5;124;43m\"\u001b[39;49m\u001b[38;5;124;43m4\u001b[39;49m\u001b[38;5;124;43m\"\u001b[39;49m\u001b[43m)\u001b[49m\u001b[38;5;241;43m.\u001b[39;49m\u001b[43mstatus\u001b[49m \u001b[38;5;241m=\u001b[39m \u001b[38;5;124m\"\u001b[39m\u001b[38;5;124m2\u001b[39m\u001b[38;5;124m\"\u001b[39m\n",
      "\u001b[0;31mAttributeError\u001b[0m: can't set attribute"
     ]
    }
   ],
   "source": [
    "wn.get_link(\"4\").status = \"2\"\n"
   ]
  },
  {
   "cell_type": "code",
   "execution_count": 1090,
   "id": "597017ef-064f-446a-95e0-e6404933e46e",
   "metadata": {},
   "outputs": [
    {
     "data": {
      "text/plain": [
       "['T',\n",
       " '_AXIS_LEN',\n",
       " '_AXIS_ORDERS',\n",
       " '_AXIS_TO_AXIS_NUMBER',\n",
       " '_HANDLED_TYPES',\n",
       " '__abs__',\n",
       " '__add__',\n",
       " '__and__',\n",
       " '__annotations__',\n",
       " '__array__',\n",
       " '__array_priority__',\n",
       " '__array_ufunc__',\n",
       " '__array_wrap__',\n",
       " '__bool__',\n",
       " '__class__',\n",
       " '__contains__',\n",
       " '__copy__',\n",
       " '__dataframe__',\n",
       " '__deepcopy__',\n",
       " '__delattr__',\n",
       " '__delitem__',\n",
       " '__dict__',\n",
       " '__dir__',\n",
       " '__divmod__',\n",
       " '__doc__',\n",
       " '__eq__',\n",
       " '__finalize__',\n",
       " '__floordiv__',\n",
       " '__format__',\n",
       " '__ge__',\n",
       " '__getattr__',\n",
       " '__getattribute__',\n",
       " '__getitem__',\n",
       " '__getstate__',\n",
       " '__gt__',\n",
       " '__hash__',\n",
       " '__iadd__',\n",
       " '__iand__',\n",
       " '__ifloordiv__',\n",
       " '__imod__',\n",
       " '__imul__',\n",
       " '__init__',\n",
       " '__init_subclass__',\n",
       " '__invert__',\n",
       " '__ior__',\n",
       " '__ipow__',\n",
       " '__isub__',\n",
       " '__iter__',\n",
       " '__itruediv__',\n",
       " '__ixor__',\n",
       " '__le__',\n",
       " '__len__',\n",
       " '__lt__',\n",
       " '__matmul__',\n",
       " '__mod__',\n",
       " '__module__',\n",
       " '__mul__',\n",
       " '__ne__',\n",
       " '__neg__',\n",
       " '__new__',\n",
       " '__nonzero__',\n",
       " '__or__',\n",
       " '__pos__',\n",
       " '__pow__',\n",
       " '__radd__',\n",
       " '__rand__',\n",
       " '__rdivmod__',\n",
       " '__reduce__',\n",
       " '__reduce_ex__',\n",
       " '__repr__',\n",
       " '__rfloordiv__',\n",
       " '__rmatmul__',\n",
       " '__rmod__',\n",
       " '__rmul__',\n",
       " '__ror__',\n",
       " '__round__',\n",
       " '__rpow__',\n",
       " '__rsub__',\n",
       " '__rtruediv__',\n",
       " '__rxor__',\n",
       " '__setattr__',\n",
       " '__setitem__',\n",
       " '__setstate__',\n",
       " '__sizeof__',\n",
       " '__str__',\n",
       " '__sub__',\n",
       " '__subclasshook__',\n",
       " '__truediv__',\n",
       " '__weakref__',\n",
       " '__xor__',\n",
       " '_accessors',\n",
       " '_accum_func',\n",
       " '_add_numeric_operations',\n",
       " '_agg_by_level',\n",
       " '_agg_examples_doc',\n",
       " '_agg_summary_and_see_also_doc',\n",
       " '_align_frame',\n",
       " '_align_series',\n",
       " '_append',\n",
       " '_arith_method',\n",
       " '_as_manager',\n",
       " '_attrs',\n",
       " '_box_col_values',\n",
       " '_can_fast_transpose',\n",
       " '_check_inplace_and_allows_duplicate_labels',\n",
       " '_check_inplace_setting',\n",
       " '_check_is_chained_assignment_possible',\n",
       " '_check_label_or_level_ambiguity',\n",
       " '_check_setitem_copy',\n",
       " '_clear_item_cache',\n",
       " '_clip_with_one_bound',\n",
       " '_clip_with_scalar',\n",
       " '_cmp_method',\n",
       " '_combine_frame',\n",
       " '_consolidate',\n",
       " '_consolidate_inplace',\n",
       " '_construct_axes_dict',\n",
       " '_construct_axes_from_arguments',\n",
       " '_construct_result',\n",
       " '_constructor',\n",
       " '_constructor_sliced',\n",
       " '_convert',\n",
       " '_count_level',\n",
       " '_data',\n",
       " '_dir_additions',\n",
       " '_dir_deletions',\n",
       " '_dispatch_frame_op',\n",
       " '_drop_axis',\n",
       " '_drop_labels_or_levels',\n",
       " '_ensure_valid_index',\n",
       " '_find_valid_index',\n",
       " '_flags',\n",
       " '_from_arrays',\n",
       " '_get_agg_axis',\n",
       " '_get_axis',\n",
       " '_get_axis_name',\n",
       " '_get_axis_number',\n",
       " '_get_axis_resolvers',\n",
       " '_get_block_manager_axis',\n",
       " '_get_bool_data',\n",
       " '_get_cleaned_column_resolvers',\n",
       " '_get_column_array',\n",
       " '_get_index_resolvers',\n",
       " '_get_item_cache',\n",
       " '_get_label_or_level_values',\n",
       " '_get_numeric_data',\n",
       " '_get_value',\n",
       " '_getitem_bool_array',\n",
       " '_getitem_multilevel',\n",
       " '_gotitem',\n",
       " '_hidden_attrs',\n",
       " '_indexed_same',\n",
       " '_info_axis',\n",
       " '_info_axis_name',\n",
       " '_info_axis_number',\n",
       " '_info_repr',\n",
       " '_init_mgr',\n",
       " '_inplace_method',\n",
       " '_internal_names',\n",
       " '_internal_names_set',\n",
       " '_is_copy',\n",
       " '_is_homogeneous_type',\n",
       " '_is_label_or_level_reference',\n",
       " '_is_label_reference',\n",
       " '_is_level_reference',\n",
       " '_is_mixed_type',\n",
       " '_is_view',\n",
       " '_iset_item',\n",
       " '_iset_item_mgr',\n",
       " '_iset_not_inplace',\n",
       " '_item_cache',\n",
       " '_iter_column_arrays',\n",
       " '_ixs',\n",
       " '_join_compat',\n",
       " '_logical_func',\n",
       " '_logical_method',\n",
       " '_maybe_cache_changed',\n",
       " '_maybe_update_cacher',\n",
       " '_metadata',\n",
       " '_mgr',\n",
       " '_min_count_stat_function',\n",
       " '_needs_reindex_multi',\n",
       " '_protect_consolidate',\n",
       " '_reduce',\n",
       " '_reduce_axis1',\n",
       " '_reindex_axes',\n",
       " '_reindex_columns',\n",
       " '_reindex_index',\n",
       " '_reindex_multi',\n",
       " '_reindex_with_indexers',\n",
       " '_rename',\n",
       " '_replace_columnwise',\n",
       " '_repr_data_resource_',\n",
       " '_repr_fits_horizontal_',\n",
       " '_repr_fits_vertical_',\n",
       " '_repr_html_',\n",
       " '_repr_latex_',\n",
       " '_reset_cache',\n",
       " '_reset_cacher',\n",
       " '_sanitize_column',\n",
       " '_series',\n",
       " '_set_axis',\n",
       " '_set_axis_name',\n",
       " '_set_axis_nocheck',\n",
       " '_set_is_copy',\n",
       " '_set_item',\n",
       " '_set_item_frame_value',\n",
       " '_set_item_mgr',\n",
       " '_set_value',\n",
       " '_setitem_array',\n",
       " '_setitem_frame',\n",
       " '_setitem_slice',\n",
       " '_slice',\n",
       " '_stat_axis',\n",
       " '_stat_axis_name',\n",
       " '_stat_axis_number',\n",
       " '_stat_function',\n",
       " '_stat_function_ddof',\n",
       " '_take',\n",
       " '_take_with_is_copy',\n",
       " '_to_dict_of_blocks',\n",
       " '_typ',\n",
       " '_update_inplace',\n",
       " '_validate_dtype',\n",
       " '_values',\n",
       " '_where',\n",
       " 'abs',\n",
       " 'add',\n",
       " 'add_prefix',\n",
       " 'add_suffix',\n",
       " 'agg',\n",
       " 'aggregate',\n",
       " 'align',\n",
       " 'all',\n",
       " 'any',\n",
       " 'append',\n",
       " 'apply',\n",
       " 'applymap',\n",
       " 'asfreq',\n",
       " 'asof',\n",
       " 'assign',\n",
       " 'astype',\n",
       " 'at',\n",
       " 'at_time',\n",
       " 'attrs',\n",
       " 'axes',\n",
       " 'backfill',\n",
       " 'between_time',\n",
       " 'bfill',\n",
       " 'bool',\n",
       " 'boxplot',\n",
       " 'clip',\n",
       " 'columns',\n",
       " 'combine',\n",
       " 'combine_first',\n",
       " 'compare',\n",
       " 'convert_dtypes',\n",
       " 'copy',\n",
       " 'corr',\n",
       " 'corrwith',\n",
       " 'count',\n",
       " 'cov',\n",
       " 'cummax',\n",
       " 'cummin',\n",
       " 'cumprod',\n",
       " 'cumsum',\n",
       " 'describe',\n",
       " 'diff',\n",
       " 'div',\n",
       " 'divide',\n",
       " 'dot',\n",
       " 'drop',\n",
       " 'drop_duplicates',\n",
       " 'droplevel',\n",
       " 'dropna',\n",
       " 'dtypes',\n",
       " 'duplicated',\n",
       " 'empty',\n",
       " 'eq',\n",
       " 'equals',\n",
       " 'eval',\n",
       " 'ewm',\n",
       " 'expanding',\n",
       " 'explode',\n",
       " 'ffill',\n",
       " 'fillna',\n",
       " 'filter',\n",
       " 'first',\n",
       " 'first_valid_index',\n",
       " 'flags',\n",
       " 'floordiv',\n",
       " 'from_dict',\n",
       " 'from_records',\n",
       " 'ge',\n",
       " 'get',\n",
       " 'groupby',\n",
       " 'gt',\n",
       " 'head',\n",
       " 'hist',\n",
       " 'iat',\n",
       " 'idxmax',\n",
       " 'idxmin',\n",
       " 'iloc',\n",
       " 'index',\n",
       " 'infer_objects',\n",
       " 'info',\n",
       " 'insert',\n",
       " 'interpolate',\n",
       " 'isetitem',\n",
       " 'isin',\n",
       " 'isna',\n",
       " 'isnull',\n",
       " 'items',\n",
       " 'iteritems',\n",
       " 'iterrows',\n",
       " 'itertuples',\n",
       " 'join',\n",
       " 'keys',\n",
       " 'kurt',\n",
       " 'kurtosis',\n",
       " 'last',\n",
       " 'last_valid_index',\n",
       " 'le',\n",
       " 'loc',\n",
       " 'lookup',\n",
       " 'lt',\n",
       " 'mad',\n",
       " 'mask',\n",
       " 'max',\n",
       " 'mean',\n",
       " 'median',\n",
       " 'melt',\n",
       " 'memory_usage',\n",
       " 'merge',\n",
       " 'min',\n",
       " 'mod',\n",
       " 'mode',\n",
       " 'mul',\n",
       " 'multiply',\n",
       " 'ndim',\n",
       " 'ne',\n",
       " 'nlargest',\n",
       " 'notna',\n",
       " 'notnull',\n",
       " 'nsmallest',\n",
       " 'nunique',\n",
       " 'pad',\n",
       " 'pct_change',\n",
       " 'pipe',\n",
       " 'pivot',\n",
       " 'pivot_table',\n",
       " 'plot',\n",
       " 'pop',\n",
       " 'pow',\n",
       " 'prod',\n",
       " 'product',\n",
       " 'quantile',\n",
       " 'query',\n",
       " 'radd',\n",
       " 'rank',\n",
       " 'rdiv',\n",
       " 'reindex',\n",
       " 'reindex_like',\n",
       " 'rename',\n",
       " 'rename_axis',\n",
       " 'reorder_levels',\n",
       " 'replace',\n",
       " 'resample',\n",
       " 'reset_index',\n",
       " 'rfloordiv',\n",
       " 'rmod',\n",
       " 'rmul',\n",
       " 'rolling',\n",
       " 'round',\n",
       " 'rpow',\n",
       " 'rsub',\n",
       " 'rtruediv',\n",
       " 'sample',\n",
       " 'select_dtypes',\n",
       " 'sem',\n",
       " 'set_axis',\n",
       " 'set_flags',\n",
       " 'set_index',\n",
       " 'shape',\n",
       " 'shift',\n",
       " 'size',\n",
       " 'skew',\n",
       " 'slice_shift',\n",
       " 'sort_index',\n",
       " 'sort_values',\n",
       " 'squeeze',\n",
       " 'stack',\n",
       " 'std',\n",
       " 'style',\n",
       " 'sub',\n",
       " 'subtract',\n",
       " 'sum',\n",
       " 'swapaxes',\n",
       " 'swaplevel',\n",
       " 'tail',\n",
       " 'take',\n",
       " 'to_clipboard',\n",
       " 'to_csv',\n",
       " 'to_dict',\n",
       " 'to_excel',\n",
       " 'to_feather',\n",
       " 'to_gbq',\n",
       " 'to_hdf',\n",
       " 'to_html',\n",
       " 'to_json',\n",
       " 'to_latex',\n",
       " 'to_markdown',\n",
       " 'to_numpy',\n",
       " 'to_orc',\n",
       " 'to_parquet',\n",
       " 'to_period',\n",
       " 'to_pickle',\n",
       " 'to_records',\n",
       " 'to_sql',\n",
       " 'to_stata',\n",
       " 'to_string',\n",
       " 'to_timestamp',\n",
       " 'to_xarray',\n",
       " 'to_xml',\n",
       " 'transform',\n",
       " 'transpose',\n",
       " 'truediv',\n",
       " 'truncate',\n",
       " 'tz_convert',\n",
       " 'tz_localize',\n",
       " 'unstack',\n",
       " 'update',\n",
       " 'value_counts',\n",
       " 'values',\n",
       " 'var',\n",
       " 'where',\n",
       " 'xs']"
      ]
     },
     "execution_count": 1090,
     "metadata": {},
     "output_type": "execute_result"
    }
   ],
   "source": [
    "dir(results.node[\"pressure\"])"
   ]
  },
  {
   "cell_type": "code",
   "execution_count": 1094,
   "id": "6f2e0d09-1813-48e5-985f-72961ef8d537",
   "metadata": {},
   "outputs": [
    {
     "data": {
      "text/plain": [
       "array([81.003, 81.003, 84.475, 85.958, 21.103, 22.129, 23.617, 20.783, 17.494, 38.763,  0.   ])"
      ]
     },
     "execution_count": 1094,
     "metadata": {},
     "output_type": "execute_result"
    }
   ],
   "source": [
    "np.array(results.node[\"pressure\"].values[-1])"
   ]
  },
  {
   "cell_type": "code",
   "execution_count": 1160,
   "id": "8c5ac7a2-0df1-4a5a-907d-41450f8b72c3",
   "metadata": {},
   "outputs": [
    {
     "data": {
      "text/plain": [
       "0"
      ]
     },
     "execution_count": 1160,
     "metadata": {},
     "output_type": "execute_result"
    }
   ],
   "source": [
    "np.random.choice(1\n",
    "                )"
   ]
  },
  {
   "cell_type": "code",
   "execution_count": null,
   "id": "9531a79d-bc6e-44f8-9c87-4c49d7988d53",
   "metadata": {},
   "outputs": [],
   "source": []
  },
  {
   "cell_type": "code",
   "execution_count": null,
   "id": "2576c92c-15e8-42fa-9549-41c3429eabe9",
   "metadata": {},
   "outputs": [],
   "source": []
  },
  {
   "cell_type": "code",
   "execution_count": null,
   "id": "d4c7b12e-381e-4f3f-9db7-4cf12de0a04e",
   "metadata": {},
   "outputs": [],
   "source": []
  },
  {
   "cell_type": "code",
   "execution_count": null,
   "id": "cbece97f-aa91-474d-bc86-12e921324a3b",
   "metadata": {},
   "outputs": [],
   "source": []
  },
  {
   "cell_type": "code",
   "execution_count": 913,
   "id": "bfde8ff5-a539-4ab7-9e98-c7adc27316a9",
   "metadata": {},
   "outputs": [
    {
     "name": "stdout",
     "output_type": "stream",
     "text": [
      "1.0.0\n"
     ]
    },
    {
     "data": {
      "image/png": "[encoded data removed]",
      "text/plain": [
       "<Figure size 640x480 with 1 Axes>"
      ]
     },
     "metadata": {},
     "output_type": "display_data"
    }
   ],
   "source": [
    "import wntr\n",
    "\n",
    "print(wntr.__version__)\n",
    "wn = wntr.network.WaterNetworkModel('networks/net1_withValve.inp')\n",
    "# print(list(wn.nodes.values()))\n",
    "# print(wn.junctions)\n",
    "\n",
    "\n",
    "wn.options.time.duration = 3600 * 2\n",
    "wn.options.time.hydraulic_timestep = 3600\n",
    "sim = wntr.sim.WNTRSimulator(wn)\n",
    "\n",
    "\n",
    "\n",
    "results = sim.run_sim()\n",
    "\n",
    "pressure_at_node123 = results.node['pressure'].loc[:,:]\n",
    "# xx = results.link[\"flowrate\"].loc[:,\"10\"].plot()\n",
    "ax = pressure_at_node123.plot()\n",
    "text = ax.set_xlabel(\"Time (s)\")\n",
    "text = ax.set_ylabel(\"Pressure (m)\")\n"
   ]
  },
  {
   "cell_type": "code",
   "execution_count": 66,
   "id": "570d94c7-4a2f-4ee0-b276-4f5c5f3408cd",
   "metadata": {},
   "outputs": [
    {
     "data": {
      "image/png": "[encoded data removed]",
      "text/plain": [
       "<Figure size 640x480 with 1 Axes>"
      ]
     },
     "metadata": {},
     "output_type": "display_data"
    }
   ],
   "source": [
    "import numpy as np \n",
    "from matplotlib import pyplot as plt \n",
    "\n",
    "\n",
    "plt.title(\"Avg pressure at a time\") \n",
    "plt.xlabel(\"hour\") \n",
    "plt.ylabel(\"pressure\") \n",
    "\n",
    "\n",
    "avg_pressure_per_time =pressure_at_node123.to_numpy().mean(axis=1)\n",
    "plt.plot(range(len(avg_pressure_per_time)),avg_pressure_per_time)\n",
    "plt.show()"
   ]
  },
  {
   "cell_type": "code",
   "execution_count": 868,
   "id": "ad6292ac-eda9-4b20-be62-96aa0c05b4e9",
   "metadata": {},
   "outputs": [
    {
     "data": {
      "text/plain": [
       "array([[82.983],\n",
       "       [82.983],\n",
       "       [86.455],\n",
       "       [87.938],\n",
       "       [86.031],\n",
       "       [87.056],\n",
       "       [88.544],\n",
       "       [85.711],\n",
       "       [82.422],\n",
       "       [ 0.   ],\n",
       "       [40.743]])"
      ]
     },
     "execution_count": 868,
     "metadata": {},
     "output_type": "execute_result"
    }
   ],
   "source": [
    "results = sim.run_sim()\n",
    "\n",
    "np.array([results.node['pressure'][node] for node in wn.nodes])"
   ]
  },
  {
   "cell_type": "code",
   "execution_count": null,
   "id": "c1e434f2-3539-445a-9547-7dbe5de82a5a",
   "metadata": {},
   "outputs": [],
   "source": []
  },
  {
   "cell_type": "code",
   "execution_count": null,
   "id": "d814ecaf-afdd-4b76-b619-2decfadf3fc5",
   "metadata": {},
   "outputs": [],
   "source": []
  },
  {
   "cell_type": "code",
   "execution_count": null,
   "id": "3828269f-dd8a-4aa7-aef6-46e1524aa444",
   "metadata": {},
   "outputs": [],
   "source": []
  },
  {
   "cell_type": "code",
   "execution_count": 729,
   "id": "fe806aa6-757e-4734-96cb-954924197534",
   "metadata": {},
   "outputs": [
    {
     "data": {
      "text/html": [
       "<div>\n",
       "<style scoped>\n",
       "    .dataframe tbody tr th:only-of-type {\n",
       "        vertical-align: middle;\n",
       "    }\n",
       "\n",
       "    .dataframe tbody tr th {\n",
       "        vertical-align: top;\n",
       "    }\n",
       "\n",
       "    .dataframe thead th {\n",
       "        text-align: right;\n",
       "    }\n",
       "</style>\n",
       "<table border=\"1\" class=\"dataframe\">\n",
       "  <thead>\n",
       "    <tr style=\"text-align: right;\">\n",
       "      <th></th>\n",
       "      <th>10</th>\n",
       "      <th>11</th>\n",
       "      <th>12</th>\n",
       "      <th>13</th>\n",
       "      <th>21</th>\n",
       "      <th>22</th>\n",
       "      <th>23</th>\n",
       "      <th>31</th>\n",
       "      <th>32</th>\n",
       "      <th>2</th>\n",
       "      <th>9</th>\n",
       "    </tr>\n",
       "  </thead>\n",
       "  <tbody>\n",
       "    <tr>\n",
       "      <th>10800</th>\n",
       "      <td>0.0</td>\n",
       "      <td>0.011356</td>\n",
       "      <td>0.011356</td>\n",
       "      <td>0.007571</td>\n",
       "      <td>0.011356</td>\n",
       "      <td>0.015142</td>\n",
       "      <td>0.011356</td>\n",
       "      <td>0.007571</td>\n",
       "      <td>0.007571</td>\n",
       "      <td>0.034916</td>\n",
       "      <td>-0.118195</td>\n",
       "    </tr>\n",
       "  </tbody>\n",
       "</table>\n",
       "</div>"
      ],
      "text/plain": [
       "        10        11        12        13        21        22        23  \\\n",
       "10800  0.0  0.011356  0.011356  0.007571  0.011356  0.015142  0.011356   \n",
       "\n",
       "             31        32         2         9  \n",
       "10800  0.007571  0.007571  0.034916 -0.118195  "
      ]
     },
     "execution_count": 729,
     "metadata": {},
     "output_type": "execute_result"
    }
   ],
   "source": [
    "results.node[\"demand\"]"
   ]
  },
  {
   "cell_type": "code",
   "execution_count": 730,
   "id": "024d02cb-3bdb-4c5e-acc7-b19c87ea1d29",
   "metadata": {},
   "outputs": [
    {
     "data": {
      "text/plain": [
       "OrderedDict([('head',\n",
       "                             10          11          12          13          21          22  \\\n",
       "              10800  305.818949  301.802252  298.321671  298.004044  234.463162  232.939162   \n",
       "              \n",
       "                             23          31         32           2       9  \n",
       "              10800  232.662246  232.579107  231.69276  298.310019  243.84  ),\n",
       "             ('demand',\n",
       "                      10        11        12        13        21        22        23  \\\n",
       "              10800  0.0  0.011356  0.011356  0.007571  0.011356  0.015142  0.011356   \n",
       "              \n",
       "                           31        32         2         9  \n",
       "              10800  0.007571  0.007571  0.034916 -0.118195  ),\n",
       "             ('pressure',\n",
       "                            10         11         12         13         21         22  \\\n",
       "              10800  89.410949  85.394252  84.961671  86.168044  21.103162  21.103162   \n",
       "              \n",
       "                            23         31        32          2    9  \n",
       "              10800  22.350246  19.219107  15.28476  39.230019  0.0  ),\n",
       "             ('leak_demand',\n",
       "                      10   11   12   13   21   22   23   31   32    2    9\n",
       "              10800  0.0  0.0  0.0  0.0  0.0  0.0  0.0  0.0  0.0  0.0  0.0)])"
      ]
     },
     "execution_count": 730,
     "metadata": {},
     "output_type": "execute_result"
    }
   ],
   "source": [
    "results.node"
   ]
  },
  {
   "cell_type": "code",
   "execution_count": 731,
   "id": "a4b2e32a-1836-4f42-acb1-1115263185de",
   "metadata": {},
   "outputs": [
    {
     "data": {
      "text/plain": [
       "3"
      ]
     },
     "execution_count": 731,
     "metadata": {},
     "output_type": "execute_result"
    }
   ],
   "source": [
    "wn.num_valves\n"
   ]
  },
  {
   "cell_type": "code",
   "execution_count": null,
   "id": "cbf1083e-4aa4-4429-aaa4-852816f9b9f6",
   "metadata": {},
   "outputs": [],
   "source": [
    "wn.get_node(\"10\").pressure"
   ]
  },
  {
   "cell_type": "code",
   "execution_count": 1,
   "id": "d881094b-0173-42a7-b7f7-35f3615c4267",
   "metadata": {},
   "outputs": [
    {
     "data": {
      "text/plain": [
       "array([0, 1, 0], dtype=int32)"
      ]
     },
     "execution_count": 1,
     "metadata": {},
     "output_type": "execute_result"
    }
   ],
   "source": [
    "from environment import WaterNetworkEnv\n",
    "env = WaterNetworkEnv(\"./networks/net1_withValve.inp\")\n",
    "env.action_space.sample()"
   ]
  },
  {
   "cell_type": "code",
   "execution_count": 2,
   "id": "74754dd9-857b-4613-a1f4-d24d59d49fe5",
   "metadata": {},
   "outputs": [
    {
     "ename": "AttributeError",
     "evalue": "'tuple' object has no attribute 'initial_status'",
     "output_type": "error",
     "traceback": [
      "\u001b[0;31m---------------------------------------------------------------------------\u001b[0m",
      "\u001b[0;31mAttributeError\u001b[0m                            Traceback (most recent call last)",
      "Cell \u001b[0;32mIn[2], line 1\u001b[0m\n\u001b[0;32m----> 1\u001b[0m \u001b[43menv\u001b[49m\u001b[38;5;241;43m.\u001b[39;49m\u001b[43mstep\u001b[49m\u001b[43m(\u001b[49m\u001b[43menv\u001b[49m\u001b[38;5;241;43m.\u001b[39;49m\u001b[43maction_space\u001b[49m\u001b[38;5;241;43m.\u001b[39;49m\u001b[43msample\u001b[49m\u001b[43m(\u001b[49m\u001b[43m)\u001b[49m\u001b[43m)\u001b[49m\n",
      "File \u001b[0;32m~/Projects/self/WDN_project/environment.py:39\u001b[0m, in \u001b[0;36mWaterNetworkEnv.step\u001b[0;34m(self, action)\u001b[0m\n\u001b[1;32m     37\u001b[0m     valve: Valve\n\u001b[1;32m     38\u001b[0m     status \u001b[38;5;241m=\u001b[39m \u001b[38;5;124m\"\u001b[39m\u001b[38;5;124mActive\u001b[39m\u001b[38;5;124m\"\u001b[39m \u001b[38;5;28;01mif\u001b[39;00m action[i]\u001b[38;5;241m==\u001b[39m\u001b[38;5;241m1\u001b[39m \u001b[38;5;28;01melse\u001b[39;00m \u001b[38;5;124m\"\u001b[39m\u001b[38;5;124mOpen\u001b[39m\u001b[38;5;124m\"\u001b[39m\n\u001b[0;32m---> 39\u001b[0m     \u001b[43mvalve\u001b[49m\u001b[38;5;241;43m.\u001b[39;49m\u001b[43minitial_status\u001b[49m \u001b[38;5;241m=\u001b[39m status\n\u001b[1;32m     41\u001b[0m \u001b[38;5;66;03m# Simulate the water network model for one step\u001b[39;00m\n\u001b[1;32m     43\u001b[0m results \u001b[38;5;241m=\u001b[39m \u001b[38;5;28mself\u001b[39m\u001b[38;5;241m.\u001b[39msim\u001b[38;5;241m.\u001b[39mrun_sim()\n",
      "\u001b[0;31mAttributeError\u001b[0m: 'tuple' object has no attribute 'initial_status'"
     ]
    }
   ],
   "source": [
    "env.step(env.action_space.sample())"
   ]
  },
  {
   "cell_type": "code",
   "execution_count": null,
   "id": "0898e3f9-3e03-4b90-979b-734a76ac3157",
   "metadata": {},
   "outputs": [],
   "source": []
  },
  {
   "cell_type": "code",
   "execution_count": null,
   "id": "c04908f9-c2c7-49f1-98c2-47e493cb96ec",
   "metadata": {},
   "outputs": [],
   "source": []
  },
  {
   "cell_type": "code",
   "execution_count": null,
   "id": "870731a3-cc3d-49a8-9d84-8dbb4f0f9c9a",
   "metadata": {},
   "outputs": [],
   "source": []
  },
  {
   "cell_type": "code",
   "execution_count": null,
   "id": "218bf6a5-5392-4345-b9c0-7f474a9fb363",
   "metadata": {},
   "outputs": [],
   "source": []
  },
  {
   "cell_type": "code",
   "execution_count": null,
   "id": "3c9a1823-6e91-4685-a3ce-85604ec9d72a",
   "metadata": {},
   "outputs": [],
   "source": []
  },
  {
   "cell_type": "code",
   "execution_count": null,
   "id": "96bd5145-ebe1-4c53-80c0-b7e2585f687b",
   "metadata": {},
   "outputs": [],
   "source": []
  },
  {
   "cell_type": "code",
   "execution_count": null,
   "id": "b3ee5e2a-3ed4-4b01-be63-9b1708318198",
   "metadata": {},
   "outputs": [],
   "source": []
  },
  {
   "cell_type": "code",
   "execution_count": null,
   "id": "36f40ed4-cfb6-4620-8792-e832a084baf6",
   "metadata": {},
   "outputs": [],
   "source": []
  },
  {
   "cell_type": "code",
   "execution_count": null,
   "id": "70a09c87-a1fb-4553-824e-75e34c137e7f",
   "metadata": {},
   "outputs": [],
   "source": []
  },
  {
   "cell_type": "code",
   "execution_count": null,
   "id": "ac7e5a4b-6d71-435c-bb1b-46ac168f516a",
   "metadata": {},
   "outputs": [],
   "source": [
    "ax = wntr.graphics.plot_network(wn, node_attribute='pressure',node_colorbar_label='Elevation (m)')"
   ]
  },
  {
   "cell_type": "code",
   "execution_count": null,
   "id": "d8feb5a9-9d6b-4ca8-841c-4ceb8bace00b",
   "metadata": {},
   "outputs": [],
   "source": []
  },
  {
   "cell_type": "code",
   "execution_count": null,
   "id": "8cda0ace-2831-4907-a8b1-93cd18c3120e",
   "metadata": {},
   "outputs": [],
   "source": [
    "pressure_at_node123 = results.link['flowrate'].loc[: , \"2062\"]\n",
    "pressure_at_node123.plot()"
   ]
  },
  {
   "cell_type": "code",
   "execution_count": null,
   "id": "11db10df-d476-4a1c-85ea-0765a2f3c501",
   "metadata": {},
   "outputs": [],
   "source": [
    "list(wn.valves())"
   ]
  },
  {
   "cell_type": "code",
   "execution_count": null,
   "id": "d2eaafe6-9059-41b8-bf4a-9c675f6bcf7c",
   "metadata": {},
   "outputs": [],
   "source": [
    "type(list(wn.valves())[0][1])"
   ]
  },
  {
   "cell_type": "code",
   "execution_count": null,
   "id": "cec5853f-ca3a-49d4-893e-8739bfcb9c8c",
   "metadata": {},
   "outputs": [],
   "source": [
    "from wntr.network.elements import PRValve"
   ]
  },
  {
   "cell_type": "code",
   "execution_count": null,
   "id": "6cb5ac14-91f5-48a0-9ad9-5c7044995b84",
   "metadata": {},
   "outputs": [],
   "source": [
    "p =list(wn.valves())[0][1]\n",
    "p.initial_status = 0"
   ]
  },
  {
   "cell_type": "code",
   "execution_count": null,
   "id": "0975b607-13d0-4e39-b7d2-73af16d4b6a3",
   "metadata": {},
   "outputs": [],
   "source": [
    "list(wn.nodes)"
   ]
  },
  {
   "cell_type": "code",
   "execution_count": null,
   "id": "22611b05-772c-4b6c-9fb9-22dc352599cb",
   "metadata": {},
   "outputs": [],
   "source": [
    "results.node['pressure'][\"211\"]"
   ]
  },
  {
   "cell_type": "code",
   "execution_count": null,
   "id": "80a2a7bd-a0d3-4d12-9178-b68f85185297",
   "metadata": {},
   "outputs": [],
   "source": [
    "sim.run_sim().node['pressure'][\"211\"]"
   ]
  },
  {
   "cell_type": "code",
   "execution_count": null,
   "id": "89cbc6bf-9e2f-43cd-8fe4-6007ce87e660",
   "metadata": {},
   "outputs": [],
   "source": []
  },
  {
   "cell_type": "code",
   "execution_count": null,
   "id": "b8458afb-8dc0-489c-a665-95966d1d1d49",
   "metadata": {},
   "outputs": [],
   "source": []
  },
  {
   "cell_type": "code",
   "execution_count": null,
   "id": "f9e48262-6b52-4ca0-a77d-5a26ad9c805a",
   "metadata": {},
   "outputs": [],
   "source": []
  }
 ],
 "metadata": {
  "kernelspec": {
   "display_name": "rl",
   "language": "python",
   "name": "rl"
  },
  "language_info": {
   "codemirror_mode": {
    "name": "ipython",
    "version": 3
   },
   "file_extension": ".py",
   "mimetype": "text/x-python",
   "name": "python",
   "nbconvert_exporter": "python",
   "pygments_lexer": "ipython3",
   "version": "3.9.6"
  }
 },
 "nbformat": 4,
 "nbformat_minor": 5
}
